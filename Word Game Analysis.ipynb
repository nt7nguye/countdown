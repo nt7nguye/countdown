{
 "cells": [
  {
   "cell_type": "code",
   "execution_count": 14,
   "id": "83702502",
   "metadata": {},
   "outputs": [],
   "source": [
    "from word_puzzle import WordPuzzle"
   ]
  },
  {
   "cell_type": "code",
   "execution_count": 12,
   "id": "9bb15ebe",
   "metadata": {},
   "outputs": [],
   "source": [
    "encoded_word_list = []\n",
    "with open('word_lists/encoded_word_list.txt', 'r') as f:\n",
    "    data = f.read()\n",
    "    encoded_word_list = data.split('\\n')\n",
    "    \n",
    "    "
   ]
  },
  {
   "cell_type": "code",
   "execution_count": 135,
   "id": "fe77c782",
   "metadata": {},
   "outputs": [
    {
     "data": {
      "text/plain": [
       "[set(),\n",
       " set(),\n",
       " set(),\n",
       " set(),\n",
       " set(),\n",
       " {'badge', 'cadge', 'caged', 'decaf', 'faced', 'fadge'},\n",
       " set(),\n",
       " set(),\n",
       " set(),\n",
       " set(),\n",
       " set(),\n",
       " set(),\n",
       " set(),\n",
       " set(),\n",
       " set()]"
      ]
     },
     "execution_count": 135,
     "metadata": {},
     "output_type": "execute_result"
    }
   ],
   "source": [
    "rlenc_puzzle.solve('abcdefg')"
   ]
  },
  {
   "cell_type": "code",
   "execution_count": 137,
   "id": "d6897994",
   "metadata": {},
   "outputs": [
    {
     "data": {
      "text/plain": [
       "[set(),\n",
       " set(),\n",
       " set(),\n",
       " set(),\n",
       " set(),\n",
       " {'badge', 'cadge', 'caged', 'decaf', 'faced', 'fadge'},\n",
       " set(),\n",
       " set(),\n",
       " set(),\n",
       " set(),\n",
       " set(),\n",
       " set(),\n",
       " set(),\n",
       " set(),\n",
       " set()]"
      ]
     },
     "execution_count": 137,
     "metadata": {},
     "output_type": "execute_result"
    }
   ],
   "source": [
    "puzzle = WordPuzzle(word_list)\n",
    "puzzle.solve('abcdefg')"
   ]
  },
  {
   "cell_type": "code",
   "execution_count": null,
   "id": "f78d5c02",
   "metadata": {},
   "outputs": [],
   "source": []
  },
  {
   "cell_type": "code",
   "execution_count": null,
   "id": "546452ee",
   "metadata": {},
   "outputs": [],
   "source": [
    "rlenc_puzzle.root.children"
   ]
  }
 ],
 "metadata": {
  "kernelspec": {
   "display_name": "Python 3 (ipykernel)",
   "language": "python",
   "name": "python3"
  },
  "language_info": {
   "codemirror_mode": {
    "name": "ipython",
    "version": 3
   },
   "file_extension": ".py",
   "mimetype": "text/x-python",
   "name": "python",
   "nbconvert_exporter": "python",
   "pygments_lexer": "ipython3",
   "version": "3.11.3"
  }
 },
 "nbformat": 4,
 "nbformat_minor": 5
}
