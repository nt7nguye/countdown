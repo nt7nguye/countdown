{
 "cells": [
  {
   "cell_type": "markdown",
   "id": "80e58c50",
   "metadata": {},
   "source": [
    "### Aggregate all the sources with words length 5 - 9 (~202471 words)\n",
    "\n",
    "We aggregate the sources because words with affixiations are still valid guesses in the game (i.e. UNimportant, REwrite, playED, catS).\n",
    "\n",
    "No data sources guarantees to include all the affixations of proper words, but each of them contain some subset so we can aggregate them all as a best-effort solution"
   ]
  },
  {
   "cell_type": "code",
   "execution_count": 14,
   "id": "9bbde9c4",
   "metadata": {},
   "outputs": [
    {
     "data": {
      "text/plain": [
       "202471"
      ]
     },
     "execution_count": 14,
     "metadata": {},
     "output_type": "execute_result"
    }
   ],
   "source": [
    "word_set = set()\n",
    "for path in ['enable_word_list', 'english_words_repo', 'online_plain_text', 'webster_dict_repo']:\n",
    "    with open(path + '/words.txt') as f:\n",
    "        data = f.read()\n",
    "        for word in data.split('\\n'):\n",
    "            if len(word) < 5 or len(word) > 9:\n",
    "                continue\n",
    "            word_set.add(word)\n",
    "        \n",
    "word_list = sorted(word_set)\n",
    "len(word_list)"
   ]
  },
  {
   "cell_type": "markdown",
   "id": "742f9aa8",
   "metadata": {},
   "source": [
    "We can optimize string storage when we know that dictionary words sorted in order usually have a common prefix.\n",
    "\n",
    "Ex:\n",
    "\n",
    "`bank, bankers, banked`\n",
    "\n",
    "can be stored as \n",
    "\n",
    "`bank, 4ers, 5d`\n",
    "\n",
    "to shorten the strings, where the digit is the length of common prefix to the previous word \n"
   ]
  },
  {
   "cell_type": "code",
   "execution_count": 22,
   "id": "4b3e25a7",
   "metadata": {},
   "outputs": [],
   "source": [
    "# Encode run length prefix on a sorted word list\n",
    "def prefix_encode(word_list):\n",
    "    encoded = []\n",
    "    prev = ''\n",
    "    for word in word_list:\n",
    "        idx = 0\n",
    "        while idx < len(prev) and prev[idx] == word[idx]:\n",
    "            idx += 1\n",
    "        encoded_word = '' if idx == 0 else str(idx)\n",
    "        encoded_word += word[idx:]\n",
    "        encoded.append(encoded_word)\n",
    "        prev = word\n",
    "    return encoded\n",
    "\n",
    "encoded_word_list = prefix_encode(word_list)"
   ]
  },
  {
   "cell_type": "code",
   "execution_count": 16,
   "id": "40607571",
   "metadata": {},
   "outputs": [],
   "source": [
    "with open('word_list.txt', 'w') as f:\n",
    "    f.write('\\n'.join(word_list))\n",
    "    \n",
    "with open('encoded_word_list.txt', 'w') as f:\n",
    "    f.write('\\n'.join(encoded_word_list))"
   ]
  },
  {
   "cell_type": "markdown",
   "id": "0215233a",
   "metadata": {},
   "source": [
    "There's almost 50% improvement in file size, from 1.92MB to 1.06MB, which is great when we decide to use this in the web later"
   ]
  },
  {
   "cell_type": "markdown",
   "id": "d7123bb0",
   "metadata": {},
   "source": [
    "It's also slightly faster to build a Trie from encoded list, which is nice"
   ]
  }
 ],
 "metadata": {
  "kernelspec": {
   "display_name": "Python 3 (ipykernel)",
   "language": "python",
   "name": "python3"
  },
  "language_info": {
   "codemirror_mode": {
    "name": "ipython",
    "version": 3
   },
   "file_extension": ".py",
   "mimetype": "text/x-python",
   "name": "python",
   "nbconvert_exporter": "python",
   "pygments_lexer": "ipython3",
   "version": "3.11.3"
  }
 },
 "nbformat": 4,
 "nbformat_minor": 5
}
