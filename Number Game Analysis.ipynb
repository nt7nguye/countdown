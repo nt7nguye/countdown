{
 "cells": [
  {
   "cell_type": "code",
   "execution_count": 216,
   "id": "6d8d8661",
   "metadata": {},
   "outputs": [],
   "source": [
    "from number_puzzle import NumberPuzzle\n",
    "from random import randint\n",
    "import pandas as pd\n",
    "import time"
   ]
  },
  {
   "cell_type": "code",
   "execution_count": 203,
   "id": "0758c540",
   "metadata": {},
   "outputs": [
    {
     "data": {
      "text/plain": [
       "[((100 + 6) * 75 * 3 - 50) / 25, ((100 + 3) * 75 * 6 / 50 + 25)]"
      ]
     },
     "execution_count": 203,
     "metadata": {},
     "output_type": "execute_result"
    }
   ],
   "source": [
    "#https://www.youtube.com/watch?v=pfa3MHLLSWI&embeds_euri=http%3A%2F%2Fwww.alaricstephen.com%2F&source_ve_path=MjM4NTE&feature=emb_title&ab_channel=countdowngoofs\n",
    "puzzle = NumberPuzzle(target=952, acceptibleDiff=0, numBigOnes=4, smallOnes=[3, 6])\n",
    "puzzle.solve(15)"
   ]
  },
  {
   "cell_type": "code",
   "execution_count": 201,
   "id": "ada4f533",
   "metadata": {},
   "outputs": [
    {
     "data": {
      "text/plain": [
       "29862"
      ]
     },
     "execution_count": 201,
     "metadata": {},
     "output_type": "execute_result"
    }
   ],
   "source": [
    "puzzle.exprEvaluateddd"
   ]
  },
  {
   "cell_type": "code",
   "execution_count": 202,
   "id": "27d5def3",
   "metadata": {},
   "outputs": [
    {
     "data": {
      "text/plain": [
       "29861"
      ]
     },
     "execution_count": 202,
     "metadata": {},
     "output_type": "execute_result"
    }
   ],
   "source": [
    "len(puzzle.memoized)"
   ]
  },
  {
   "cell_type": "code",
   "execution_count": 226,
   "id": "96c7c9ba",
   "metadata": {},
   "outputs": [
    {
     "name": "stdout",
     "output_type": "stream",
     "text": [
      "100\n",
      "125\n",
      "150\n",
      "175\n",
      "200\n",
      "225\n",
      "250\n",
      "275\n",
      "300\n",
      "325\n",
      "350\n",
      "375\n",
      "400\n",
      "425\n",
      "450\n",
      "475\n",
      "500\n",
      "525\n",
      "550\n",
      "575\n",
      "600\n",
      "625\n",
      "650\n",
      "675\n",
      "700\n",
      "725\n",
      "750\n",
      "775\n",
      "800\n",
      "825\n",
      "850\n",
      "875\n",
      "900\n",
      "925\n",
      "950\n",
      "975\n"
     ]
    }
   ],
   "source": [
    "rows = []\n",
    "for target in range(100, 1000):\n",
    "    if target % 25 == 0:\n",
    "        print(target)\n",
    "    for numBigOnes in range(1, 5):\n",
    "        totalNumExpr = 0\n",
    "        totalSolutions = 0\n",
    "        start = time.time()\n",
    "        iterations = 10\n",
    "        for i in range(iterations):\n",
    "            puzzle=NumberPuzzle(target=target, numBigOnes=numBigOnes, acceptibleDiff=0)\n",
    "            puzzle.solve()\n",
    "            totalNumExpr += puzzle.exprEvaluated\n",
    "            totalSolutions += len(puzzle.solutions)\n",
    "        rows.append([target, numBigOnes, totalNumExpr / iterations, totalSolutions / iterations, (time.time() - start) / iterations])\n",
    "        \n",
    "df = pd.DataFrame(rows, columns=['value', 'numBigOnes', 'aveNumExprEvaluated', 'aveNumSolutions', 'aveSolveTimeSec'])"
   ]
  },
  {
   "cell_type": "code",
   "execution_count": 228,
   "id": "66ad9264",
   "metadata": {},
   "outputs": [
    {
     "data": {
      "text/html": [
       "<div>\n",
       "<style scoped>\n",
       "    .dataframe tbody tr th:only-of-type {\n",
       "        vertical-align: middle;\n",
       "    }\n",
       "\n",
       "    .dataframe tbody tr th {\n",
       "        vertical-align: top;\n",
       "    }\n",
       "\n",
       "    .dataframe thead th {\n",
       "        text-align: right;\n",
       "    }\n",
       "</style>\n",
       "<table border=\"1\" class=\"dataframe\">\n",
       "  <thead>\n",
       "    <tr style=\"text-align: right;\">\n",
       "      <th></th>\n",
       "      <th>value</th>\n",
       "      <th>numBigOnes</th>\n",
       "      <th>aveNumExprEvaluated</th>\n",
       "      <th>aveNumSolutions</th>\n",
       "      <th>aveSolveTimeSec</th>\n",
       "    </tr>\n",
       "  </thead>\n",
       "  <tbody>\n",
       "    <tr>\n",
       "      <th>0</th>\n",
       "      <td>100</td>\n",
       "      <td>1</td>\n",
       "      <td>19347.9</td>\n",
       "      <td>252.6</td>\n",
       "      <td>0.200636</td>\n",
       "    </tr>\n",
       "    <tr>\n",
       "      <th>1</th>\n",
       "      <td>100</td>\n",
       "      <td>2</td>\n",
       "      <td>24427.6</td>\n",
       "      <td>595.7</td>\n",
       "      <td>0.237399</td>\n",
       "    </tr>\n",
       "    <tr>\n",
       "      <th>2</th>\n",
       "      <td>100</td>\n",
       "      <td>3</td>\n",
       "      <td>26451.6</td>\n",
       "      <td>336.7</td>\n",
       "      <td>0.245812</td>\n",
       "    </tr>\n",
       "    <tr>\n",
       "      <th>3</th>\n",
       "      <td>100</td>\n",
       "      <td>4</td>\n",
       "      <td>30004.7</td>\n",
       "      <td>549.2</td>\n",
       "      <td>0.303613</td>\n",
       "    </tr>\n",
       "    <tr>\n",
       "      <th>4</th>\n",
       "      <td>101</td>\n",
       "      <td>1</td>\n",
       "      <td>16670.4</td>\n",
       "      <td>114.0</td>\n",
       "      <td>0.173834</td>\n",
       "    </tr>\n",
       "    <tr>\n",
       "      <th>...</th>\n",
       "      <td>...</td>\n",
       "      <td>...</td>\n",
       "      <td>...</td>\n",
       "      <td>...</td>\n",
       "      <td>...</td>\n",
       "    </tr>\n",
       "    <tr>\n",
       "      <th>3595</th>\n",
       "      <td>998</td>\n",
       "      <td>4</td>\n",
       "      <td>27145.0</td>\n",
       "      <td>3.9</td>\n",
       "      <td>0.277708</td>\n",
       "    </tr>\n",
       "    <tr>\n",
       "      <th>3596</th>\n",
       "      <td>999</td>\n",
       "      <td>1</td>\n",
       "      <td>15267.2</td>\n",
       "      <td>8.2</td>\n",
       "      <td>0.159886</td>\n",
       "    </tr>\n",
       "    <tr>\n",
       "      <th>3597</th>\n",
       "      <td>999</td>\n",
       "      <td>2</td>\n",
       "      <td>21631.2</td>\n",
       "      <td>8.9</td>\n",
       "      <td>0.209870</td>\n",
       "    </tr>\n",
       "    <tr>\n",
       "      <th>3598</th>\n",
       "      <td>999</td>\n",
       "      <td>3</td>\n",
       "      <td>29034.9</td>\n",
       "      <td>9.1</td>\n",
       "      <td>0.274975</td>\n",
       "    </tr>\n",
       "    <tr>\n",
       "      <th>3599</th>\n",
       "      <td>999</td>\n",
       "      <td>4</td>\n",
       "      <td>26782.9</td>\n",
       "      <td>2.8</td>\n",
       "      <td>0.258090</td>\n",
       "    </tr>\n",
       "  </tbody>\n",
       "</table>\n",
       "<p>3600 rows × 5 columns</p>\n",
       "</div>"
      ],
      "text/plain": [
       "      value  numBigOnes  aveNumExprEvaluated  aveNumSolutions  aveSolveTimeSec\n",
       "0       100           1              19347.9            252.6         0.200636\n",
       "1       100           2              24427.6            595.7         0.237399\n",
       "2       100           3              26451.6            336.7         0.245812\n",
       "3       100           4              30004.7            549.2         0.303613\n",
       "4       101           1              16670.4            114.0         0.173834\n",
       "...     ...         ...                  ...              ...              ...\n",
       "3595    998           4              27145.0              3.9         0.277708\n",
       "3596    999           1              15267.2              8.2         0.159886\n",
       "3597    999           2              21631.2              8.9         0.209870\n",
       "3598    999           3              29034.9              9.1         0.274975\n",
       "3599    999           4              26782.9              2.8         0.258090\n",
       "\n",
       "[3600 rows x 5 columns]"
      ]
     },
     "execution_count": 228,
     "metadata": {},
     "output_type": "execute_result"
    }
   ],
   "source": [
    "df"
   ]
  },
  {
   "cell_type": "code",
   "execution_count": 229,
   "id": "fa0ff970",
   "metadata": {},
   "outputs": [],
   "source": [
    "df.to_csv('number_solver_perf.csv')"
   ]
  }
 ],
 "metadata": {
  "kernelspec": {
   "display_name": "Python 3 (ipykernel)",
   "language": "python",
   "name": "python3"
  },
  "language_info": {
   "codemirror_mode": {
    "name": "ipython",
    "version": 3
   },
   "file_extension": ".py",
   "mimetype": "text/x-python",
   "name": "python",
   "nbconvert_exporter": "python",
   "pygments_lexer": "ipython3",
   "version": "3.11.3"
  }
 },
 "nbformat": 4,
 "nbformat_minor": 5
}
